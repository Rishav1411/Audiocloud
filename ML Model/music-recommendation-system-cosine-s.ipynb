{
 "cells": [
  {
   "attachments": {},
   "cell_type": "markdown",
   "metadata": {
    "papermill": {
     "duration": 0.016909,
     "end_time": "2021-06-08T20:59:39.514145",
     "exception": false,
     "start_time": "2021-06-08T20:59:39.497236",
     "status": "completed"
    },
    "tags": []
   },
   "source": [
    "# Music Recommendation System with Python"
   ]
  },
  {
   "cell_type": "code",
   "execution_count": 17,
   "metadata": {
    "_cell_guid": "b1076dfc-b9ad-4769-8c92-a6c4dae69d19",
    "_uuid": "8f2839f25d086af736a60e9eeb907d3b93b6e0e5",
    "execution": {
     "iopub.execute_input": "2021-06-08T20:59:39.589964Z",
     "iopub.status.busy": "2021-06-08T20:59:39.589036Z",
     "iopub.status.idle": "2021-06-08T20:59:40.578388Z",
     "shell.execute_reply": "2021-06-08T20:59:40.578968Z"
    },
    "papermill": {
     "duration": 1.013293,
     "end_time": "2021-06-08T20:59:40.579301",
     "exception": false,
     "start_time": "2021-06-08T20:59:39.566008",
     "status": "completed"
    },
    "tags": []
   },
   "outputs": [],
   "source": [
    "import pandas as pd\n",
    "import numpy as np\n",
    "from sklearn.preprocessing import StandardScaler\n",
    "from sklearn.preprocessing import OneHotEncoder\n",
    "from scipy.spatial import distance"
   ]
  },
  {
   "attachments": {},
   "cell_type": "markdown",
   "metadata": {
    "papermill": {
     "duration": 0.017365,
     "end_time": "2021-06-08T20:59:40.616151",
     "exception": false,
     "start_time": "2021-06-08T20:59:40.598786",
     "status": "completed"
    },
    "tags": []
   },
   "source": [
    "## Preprocessing"
   ]
  },
  {
   "cell_type": "code",
   "execution_count": 18,
   "metadata": {
    "execution": {
     "iopub.execute_input": "2021-06-08T20:59:40.655002Z",
     "iopub.status.busy": "2021-06-08T20:59:40.654037Z",
     "iopub.status.idle": "2021-06-08T20:59:42.226825Z",
     "shell.execute_reply": "2021-06-08T20:59:42.227463Z"
    },
    "papermill": {
     "duration": 1.593828,
     "end_time": "2021-06-08T20:59:42.227657",
     "exception": false,
     "start_time": "2021-06-08T20:59:40.633829",
     "status": "completed"
    },
    "tags": []
   },
   "outputs": [
    {
     "data": {
      "text/html": [
       "<div>\n",
       "<style scoped>\n",
       "    .dataframe tbody tr th:only-of-type {\n",
       "        vertical-align: middle;\n",
       "    }\n",
       "\n",
       "    .dataframe tbody tr th {\n",
       "        vertical-align: top;\n",
       "    }\n",
       "\n",
       "    .dataframe thead th {\n",
       "        text-align: right;\n",
       "    }\n",
       "</style>\n",
       "<table border=\"1\" class=\"dataframe\">\n",
       "  <thead>\n",
       "    <tr style=\"text-align: right;\">\n",
       "      <th></th>\n",
       "      <th>genre</th>\n",
       "      <th>artist_name</th>\n",
       "      <th>track_name</th>\n",
       "      <th>track_id</th>\n",
       "      <th>popularity</th>\n",
       "      <th>acousticness</th>\n",
       "      <th>danceability</th>\n",
       "      <th>duration_ms</th>\n",
       "      <th>energy</th>\n",
       "      <th>instrumentalness</th>\n",
       "      <th>key</th>\n",
       "      <th>liveness</th>\n",
       "      <th>loudness</th>\n",
       "      <th>mode</th>\n",
       "      <th>speechiness</th>\n",
       "      <th>tempo</th>\n",
       "      <th>time_signature</th>\n",
       "      <th>valence</th>\n",
       "    </tr>\n",
       "  </thead>\n",
       "  <tbody>\n",
       "    <tr>\n",
       "      <th>0</th>\n",
       "      <td>Movie</td>\n",
       "      <td>Henri Salvador</td>\n",
       "      <td>C'est beau de faire un Show</td>\n",
       "      <td>0BRjO6ga9RKCKjfDqeFgWV</td>\n",
       "      <td>0</td>\n",
       "      <td>0.611</td>\n",
       "      <td>0.389</td>\n",
       "      <td>99373</td>\n",
       "      <td>0.910</td>\n",
       "      <td>0.000</td>\n",
       "      <td>C#</td>\n",
       "      <td>0.3460</td>\n",
       "      <td>-1.828</td>\n",
       "      <td>Major</td>\n",
       "      <td>0.0525</td>\n",
       "      <td>166.969</td>\n",
       "      <td>4/4</td>\n",
       "      <td>0.814</td>\n",
       "    </tr>\n",
       "    <tr>\n",
       "      <th>1</th>\n",
       "      <td>Movie</td>\n",
       "      <td>Martin &amp; les fées</td>\n",
       "      <td>Perdu d'avance (par Gad Elmaleh)</td>\n",
       "      <td>0BjC1NfoEOOusryehmNudP</td>\n",
       "      <td>1</td>\n",
       "      <td>0.246</td>\n",
       "      <td>0.590</td>\n",
       "      <td>137373</td>\n",
       "      <td>0.737</td>\n",
       "      <td>0.000</td>\n",
       "      <td>F#</td>\n",
       "      <td>0.1510</td>\n",
       "      <td>-5.559</td>\n",
       "      <td>Minor</td>\n",
       "      <td>0.0868</td>\n",
       "      <td>174.003</td>\n",
       "      <td>4/4</td>\n",
       "      <td>0.816</td>\n",
       "    </tr>\n",
       "    <tr>\n",
       "      <th>2</th>\n",
       "      <td>Movie</td>\n",
       "      <td>Joseph Williams</td>\n",
       "      <td>Don't Let Me Be Lonely Tonight</td>\n",
       "      <td>0CoSDzoNIKCRs124s9uTVy</td>\n",
       "      <td>3</td>\n",
       "      <td>0.952</td>\n",
       "      <td>0.663</td>\n",
       "      <td>170267</td>\n",
       "      <td>0.131</td>\n",
       "      <td>0.000</td>\n",
       "      <td>C</td>\n",
       "      <td>0.1030</td>\n",
       "      <td>-13.879</td>\n",
       "      <td>Minor</td>\n",
       "      <td>0.0362</td>\n",
       "      <td>99.488</td>\n",
       "      <td>5/4</td>\n",
       "      <td>0.368</td>\n",
       "    </tr>\n",
       "    <tr>\n",
       "      <th>3</th>\n",
       "      <td>Movie</td>\n",
       "      <td>Henri Salvador</td>\n",
       "      <td>Dis-moi Monsieur Gordon Cooper</td>\n",
       "      <td>0Gc6TVm52BwZD07Ki6tIvf</td>\n",
       "      <td>0</td>\n",
       "      <td>0.703</td>\n",
       "      <td>0.240</td>\n",
       "      <td>152427</td>\n",
       "      <td>0.326</td>\n",
       "      <td>0.000</td>\n",
       "      <td>C#</td>\n",
       "      <td>0.0985</td>\n",
       "      <td>-12.178</td>\n",
       "      <td>Major</td>\n",
       "      <td>0.0395</td>\n",
       "      <td>171.758</td>\n",
       "      <td>4/4</td>\n",
       "      <td>0.227</td>\n",
       "    </tr>\n",
       "    <tr>\n",
       "      <th>4</th>\n",
       "      <td>Movie</td>\n",
       "      <td>Fabien Nataf</td>\n",
       "      <td>Ouverture</td>\n",
       "      <td>0IuslXpMROHdEPvSl1fTQK</td>\n",
       "      <td>4</td>\n",
       "      <td>0.950</td>\n",
       "      <td>0.331</td>\n",
       "      <td>82625</td>\n",
       "      <td>0.225</td>\n",
       "      <td>0.123</td>\n",
       "      <td>F</td>\n",
       "      <td>0.2020</td>\n",
       "      <td>-21.150</td>\n",
       "      <td>Major</td>\n",
       "      <td>0.0456</td>\n",
       "      <td>140.576</td>\n",
       "      <td>4/4</td>\n",
       "      <td>0.390</td>\n",
       "    </tr>\n",
       "  </tbody>\n",
       "</table>\n",
       "</div>"
      ],
      "text/plain": [
       "   genre        artist_name                        track_name  \\\n",
       "0  Movie     Henri Salvador       C'est beau de faire un Show   \n",
       "1  Movie  Martin & les fées  Perdu d'avance (par Gad Elmaleh)   \n",
       "2  Movie    Joseph Williams    Don't Let Me Be Lonely Tonight   \n",
       "3  Movie     Henri Salvador    Dis-moi Monsieur Gordon Cooper   \n",
       "4  Movie       Fabien Nataf                         Ouverture   \n",
       "\n",
       "                 track_id  popularity  acousticness  danceability  \\\n",
       "0  0BRjO6ga9RKCKjfDqeFgWV           0         0.611         0.389   \n",
       "1  0BjC1NfoEOOusryehmNudP           1         0.246         0.590   \n",
       "2  0CoSDzoNIKCRs124s9uTVy           3         0.952         0.663   \n",
       "3  0Gc6TVm52BwZD07Ki6tIvf           0         0.703         0.240   \n",
       "4  0IuslXpMROHdEPvSl1fTQK           4         0.950         0.331   \n",
       "\n",
       "   duration_ms  energy  instrumentalness key  liveness  loudness   mode  \\\n",
       "0        99373   0.910             0.000  C#    0.3460    -1.828  Major   \n",
       "1       137373   0.737             0.000  F#    0.1510    -5.559  Minor   \n",
       "2       170267   0.131             0.000   C    0.1030   -13.879  Minor   \n",
       "3       152427   0.326             0.000  C#    0.0985   -12.178  Major   \n",
       "4        82625   0.225             0.123   F    0.2020   -21.150  Major   \n",
       "\n",
       "   speechiness    tempo time_signature  valence  \n",
       "0       0.0525  166.969            4/4    0.814  \n",
       "1       0.0868  174.003            4/4    0.816  \n",
       "2       0.0362   99.488            5/4    0.368  \n",
       "3       0.0395  171.758            4/4    0.227  \n",
       "4       0.0456  140.576            4/4    0.390  "
      ]
     },
     "execution_count": 18,
     "metadata": {},
     "output_type": "execute_result"
    }
   ],
   "source": [
    "data = pd.read_csv(\"D:\\Dataset\\SpotifyFeatures.csv\")\n",
    "data.head()"
   ]
  },
  {
   "cell_type": "code",
   "execution_count": 19,
   "metadata": {
    "execution": {
     "iopub.execute_input": "2021-06-08T20:59:42.268660Z",
     "iopub.status.busy": "2021-06-08T20:59:42.267995Z",
     "iopub.status.idle": "2021-06-08T20:59:42.442093Z",
     "shell.execute_reply": "2021-06-08T20:59:42.441548Z"
    },
    "papermill": {
     "duration": 0.196134,
     "end_time": "2021-06-08T20:59:42.442233",
     "exception": false,
     "start_time": "2021-06-08T20:59:42.246099",
     "status": "completed"
    },
    "tags": []
   },
   "outputs": [
    {
     "name": "stdout",
     "output_type": "stream",
     "text": [
      "<class 'pandas.core.frame.DataFrame'>\n",
      "RangeIndex: 232725 entries, 0 to 232724\n",
      "Data columns (total 18 columns):\n",
      " #   Column            Non-Null Count   Dtype  \n",
      "---  ------            --------------   -----  \n",
      " 0   genre             232725 non-null  object \n",
      " 1   artist_name       232725 non-null  object \n",
      " 2   track_name        232725 non-null  object \n",
      " 3   track_id          232725 non-null  object \n",
      " 4   popularity        232725 non-null  int64  \n",
      " 5   acousticness      232725 non-null  float64\n",
      " 6   danceability      232725 non-null  float64\n",
      " 7   duration_ms       232725 non-null  int64  \n",
      " 8   energy            232725 non-null  float64\n",
      " 9   instrumentalness  232725 non-null  float64\n",
      " 10  key               232725 non-null  object \n",
      " 11  liveness          232725 non-null  float64\n",
      " 12  loudness          232725 non-null  float64\n",
      " 13  mode              232725 non-null  object \n",
      " 14  speechiness       232725 non-null  float64\n",
      " 15  tempo             232725 non-null  float64\n",
      " 16  time_signature    232725 non-null  object \n",
      " 17  valence           232725 non-null  float64\n",
      "dtypes: float64(9), int64(2), object(7)\n",
      "memory usage: 32.0+ MB\n"
     ]
    }
   ],
   "source": [
    "data.info()"
   ]
  },
  {
   "attachments": {},
   "cell_type": "markdown",
   "metadata": {
    "papermill": {
     "duration": 0.018149,
     "end_time": "2021-06-08T20:59:42.515830",
     "exception": false,
     "start_time": "2021-06-08T20:59:42.497681",
     "status": "completed"
    },
    "tags": []
   },
   "source": [
    "### Normalization and One Hot Encoding"
   ]
  },
  {
   "cell_type": "code",
   "execution_count": 20,
   "metadata": {
    "execution": {
     "iopub.execute_input": "2021-06-08T20:59:42.593358Z",
     "iopub.status.busy": "2021-06-08T20:59:42.592746Z",
     "iopub.status.idle": "2021-06-08T20:59:42.648261Z",
     "shell.execute_reply": "2021-06-08T20:59:42.648750Z"
    },
    "papermill": {
     "duration": 0.077614,
     "end_time": "2021-06-08T20:59:42.648942",
     "exception": false,
     "start_time": "2021-06-08T20:59:42.571328",
     "status": "completed"
    },
    "tags": []
   },
   "outputs": [
    {
     "name": "stderr",
     "output_type": "stream",
     "text": [
      "C:\\Users\\HP\\AppData\\Local\\Temp\\ipykernel_20452\\1882814312.py:1: FutureWarning: In a future version of pandas all arguments of DataFrame.drop except for the argument 'labels' will be keyword-only.\n",
      "  data = data.drop([\"track_id\",\"key\",\"mode\",\"time_signature\"],1)\n",
      "C:\\Users\\HP\\AppData\\Local\\Temp\\ipykernel_20452\\1882814312.py:3: FutureWarning: In a future version of pandas all arguments of DataFrame.drop except for the argument 'labels' will be keyword-only.\n",
      "  df = df.drop([\"artist_name\",\"track_name\"],1)\n"
     ]
    }
   ],
   "source": [
    "data = data.drop([\"track_id\",\"key\",\"mode\",\"time_signature\"],1)\n",
    "df = data.copy()\n",
    "df = df.drop([\"artist_name\",\"track_name\"],1)"
   ]
  },
  {
   "cell_type": "code",
   "execution_count": 21,
   "metadata": {
    "execution": {
     "iopub.execute_input": "2021-06-08T20:59:42.690308Z",
     "iopub.status.busy": "2021-06-08T20:59:42.689661Z",
     "iopub.status.idle": "2021-06-08T20:59:43.438642Z",
     "shell.execute_reply": "2021-06-08T20:59:43.438093Z"
    },
    "papermill": {
     "duration": 0.770778,
     "end_time": "2021-06-08T20:59:43.438798",
     "exception": false,
     "start_time": "2021-06-08T20:59:42.668020",
     "status": "completed"
    },
    "tags": []
   },
   "outputs": [],
   "source": [
    "col = ['popularity', 'acousticness', 'danceability', 'duration_ms',\n",
    "       'energy', 'instrumentalness', 'liveness', 'loudness', 'speechiness',\n",
    "       'tempo', 'valence']\n",
    "scaler = StandardScaler()\n",
    "df[col] = scaler.fit_transform(df[col])"
   ]
  },
  {
   "cell_type": "code",
   "execution_count": 22,
   "metadata": {
    "execution": {
     "iopub.execute_input": "2021-06-08T20:59:43.482668Z",
     "iopub.status.busy": "2021-06-08T20:59:43.481932Z",
     "iopub.status.idle": "2021-06-08T20:59:43.652772Z",
     "shell.execute_reply": "2021-06-08T20:59:43.652245Z"
    },
    "papermill": {
     "duration": 0.195184,
     "end_time": "2021-06-08T20:59:43.652922",
     "exception": false,
     "start_time": "2021-06-08T20:59:43.457738",
     "status": "completed"
    },
    "tags": []
   },
   "outputs": [
    {
     "name": "stderr",
     "output_type": "stream",
     "text": [
      "c:\\Users\\HP\\AppData\\Local\\Programs\\Python\\Python310\\lib\\site-packages\\sklearn\\preprocessing\\_encoders.py:808: FutureWarning: `sparse` was renamed to `sparse_output` in version 1.2 and will be removed in 1.4. `sparse_output` is ignored unless you leave `sparse` to its default value.\n",
      "  warnings.warn(\n"
     ]
    }
   ],
   "source": [
    "encoder = OneHotEncoder(sparse=False, handle_unknown=\"ignore\")\n",
    "enc = pd.DataFrame(encoder.fit_transform(np.array(df[\"genre\"]).reshape(-1,1)))\n",
    "enc.columns = df[\"genre\"].unique()"
   ]
  },
  {
   "cell_type": "code",
   "execution_count": 23,
   "metadata": {
    "execution": {
     "iopub.execute_input": "2021-06-08T20:59:43.732676Z",
     "iopub.status.busy": "2021-06-08T20:59:43.731712Z",
     "iopub.status.idle": "2021-06-08T20:59:43.763585Z",
     "shell.execute_reply": "2021-06-08T20:59:43.764089Z"
    },
    "papermill": {
     "duration": 0.054319,
     "end_time": "2021-06-08T20:59:43.764273",
     "exception": false,
     "start_time": "2021-06-08T20:59:43.709954",
     "status": "completed"
    },
    "tags": []
   },
   "outputs": [
    {
     "data": {
      "text/html": [
       "<div>\n",
       "<style scoped>\n",
       "    .dataframe tbody tr th:only-of-type {\n",
       "        vertical-align: middle;\n",
       "    }\n",
       "\n",
       "    .dataframe tbody tr th {\n",
       "        vertical-align: top;\n",
       "    }\n",
       "\n",
       "    .dataframe thead th {\n",
       "        text-align: right;\n",
       "    }\n",
       "</style>\n",
       "<table border=\"1\" class=\"dataframe\">\n",
       "  <thead>\n",
       "    <tr style=\"text-align: right;\">\n",
       "      <th></th>\n",
       "      <th>Movie</th>\n",
       "      <th>R&amp;B</th>\n",
       "      <th>A Capella</th>\n",
       "      <th>Alternative</th>\n",
       "      <th>Country</th>\n",
       "      <th>Dance</th>\n",
       "      <th>Electronic</th>\n",
       "      <th>Anime</th>\n",
       "      <th>Folk</th>\n",
       "      <th>Blues</th>\n",
       "      <th>...</th>\n",
       "      <th>Pop</th>\n",
       "      <th>Reggae</th>\n",
       "      <th>Reggaeton</th>\n",
       "      <th>Jazz</th>\n",
       "      <th>Rock</th>\n",
       "      <th>Ska</th>\n",
       "      <th>Comedy</th>\n",
       "      <th>Soul</th>\n",
       "      <th>Soundtrack</th>\n",
       "      <th>World</th>\n",
       "    </tr>\n",
       "  </thead>\n",
       "  <tbody>\n",
       "    <tr>\n",
       "      <th>0</th>\n",
       "      <td>0.0</td>\n",
       "      <td>0.0</td>\n",
       "      <td>0.0</td>\n",
       "      <td>0.0</td>\n",
       "      <td>0.0</td>\n",
       "      <td>0.0</td>\n",
       "      <td>0.0</td>\n",
       "      <td>0.0</td>\n",
       "      <td>0.0</td>\n",
       "      <td>0.0</td>\n",
       "      <td>...</td>\n",
       "      <td>0.0</td>\n",
       "      <td>0.0</td>\n",
       "      <td>0.0</td>\n",
       "      <td>0.0</td>\n",
       "      <td>0.0</td>\n",
       "      <td>0.0</td>\n",
       "      <td>0.0</td>\n",
       "      <td>0.0</td>\n",
       "      <td>0.0</td>\n",
       "      <td>0.0</td>\n",
       "    </tr>\n",
       "    <tr>\n",
       "      <th>1</th>\n",
       "      <td>0.0</td>\n",
       "      <td>0.0</td>\n",
       "      <td>0.0</td>\n",
       "      <td>0.0</td>\n",
       "      <td>0.0</td>\n",
       "      <td>0.0</td>\n",
       "      <td>0.0</td>\n",
       "      <td>0.0</td>\n",
       "      <td>0.0</td>\n",
       "      <td>0.0</td>\n",
       "      <td>...</td>\n",
       "      <td>0.0</td>\n",
       "      <td>0.0</td>\n",
       "      <td>0.0</td>\n",
       "      <td>0.0</td>\n",
       "      <td>0.0</td>\n",
       "      <td>0.0</td>\n",
       "      <td>0.0</td>\n",
       "      <td>0.0</td>\n",
       "      <td>0.0</td>\n",
       "      <td>0.0</td>\n",
       "    </tr>\n",
       "    <tr>\n",
       "      <th>2</th>\n",
       "      <td>0.0</td>\n",
       "      <td>0.0</td>\n",
       "      <td>0.0</td>\n",
       "      <td>0.0</td>\n",
       "      <td>0.0</td>\n",
       "      <td>0.0</td>\n",
       "      <td>0.0</td>\n",
       "      <td>0.0</td>\n",
       "      <td>0.0</td>\n",
       "      <td>0.0</td>\n",
       "      <td>...</td>\n",
       "      <td>0.0</td>\n",
       "      <td>0.0</td>\n",
       "      <td>0.0</td>\n",
       "      <td>0.0</td>\n",
       "      <td>0.0</td>\n",
       "      <td>0.0</td>\n",
       "      <td>0.0</td>\n",
       "      <td>0.0</td>\n",
       "      <td>0.0</td>\n",
       "      <td>0.0</td>\n",
       "    </tr>\n",
       "    <tr>\n",
       "      <th>3</th>\n",
       "      <td>0.0</td>\n",
       "      <td>0.0</td>\n",
       "      <td>0.0</td>\n",
       "      <td>0.0</td>\n",
       "      <td>0.0</td>\n",
       "      <td>0.0</td>\n",
       "      <td>0.0</td>\n",
       "      <td>0.0</td>\n",
       "      <td>0.0</td>\n",
       "      <td>0.0</td>\n",
       "      <td>...</td>\n",
       "      <td>0.0</td>\n",
       "      <td>0.0</td>\n",
       "      <td>0.0</td>\n",
       "      <td>0.0</td>\n",
       "      <td>0.0</td>\n",
       "      <td>0.0</td>\n",
       "      <td>0.0</td>\n",
       "      <td>0.0</td>\n",
       "      <td>0.0</td>\n",
       "      <td>0.0</td>\n",
       "    </tr>\n",
       "    <tr>\n",
       "      <th>4</th>\n",
       "      <td>0.0</td>\n",
       "      <td>0.0</td>\n",
       "      <td>0.0</td>\n",
       "      <td>0.0</td>\n",
       "      <td>0.0</td>\n",
       "      <td>0.0</td>\n",
       "      <td>0.0</td>\n",
       "      <td>0.0</td>\n",
       "      <td>0.0</td>\n",
       "      <td>0.0</td>\n",
       "      <td>...</td>\n",
       "      <td>0.0</td>\n",
       "      <td>0.0</td>\n",
       "      <td>0.0</td>\n",
       "      <td>0.0</td>\n",
       "      <td>0.0</td>\n",
       "      <td>0.0</td>\n",
       "      <td>0.0</td>\n",
       "      <td>0.0</td>\n",
       "      <td>0.0</td>\n",
       "      <td>0.0</td>\n",
       "    </tr>\n",
       "  </tbody>\n",
       "</table>\n",
       "<p>5 rows × 27 columns</p>\n",
       "</div>"
      ],
      "text/plain": [
       "   Movie  R&B  A Capella  Alternative  Country  Dance  Electronic  Anime  \\\n",
       "0    0.0  0.0        0.0          0.0      0.0    0.0         0.0    0.0   \n",
       "1    0.0  0.0        0.0          0.0      0.0    0.0         0.0    0.0   \n",
       "2    0.0  0.0        0.0          0.0      0.0    0.0         0.0    0.0   \n",
       "3    0.0  0.0        0.0          0.0      0.0    0.0         0.0    0.0   \n",
       "4    0.0  0.0        0.0          0.0      0.0    0.0         0.0    0.0   \n",
       "\n",
       "   Folk  Blues  ...  Pop  Reggae  Reggaeton  Jazz  Rock  Ska  Comedy  Soul  \\\n",
       "0   0.0    0.0  ...  0.0     0.0        0.0   0.0   0.0  0.0     0.0   0.0   \n",
       "1   0.0    0.0  ...  0.0     0.0        0.0   0.0   0.0  0.0     0.0   0.0   \n",
       "2   0.0    0.0  ...  0.0     0.0        0.0   0.0   0.0  0.0     0.0   0.0   \n",
       "3   0.0    0.0  ...  0.0     0.0        0.0   0.0   0.0  0.0     0.0   0.0   \n",
       "4   0.0    0.0  ...  0.0     0.0        0.0   0.0   0.0  0.0     0.0   0.0   \n",
       "\n",
       "   Soundtrack  World  \n",
       "0         0.0    0.0  \n",
       "1         0.0    0.0  \n",
       "2         0.0    0.0  \n",
       "3         0.0    0.0  \n",
       "4         0.0    0.0  \n",
       "\n",
       "[5 rows x 27 columns]"
      ]
     },
     "execution_count": 23,
     "metadata": {},
     "output_type": "execute_result"
    }
   ],
   "source": [
    "enc.head()"
   ]
  },
  {
   "cell_type": "code",
   "execution_count": 24,
   "metadata": {
    "execution": {
     "iopub.execute_input": "2021-06-08T20:59:43.807992Z",
     "iopub.status.busy": "2021-06-08T20:59:43.806976Z",
     "iopub.status.idle": "2021-06-08T20:59:44.072233Z",
     "shell.execute_reply": "2021-06-08T20:59:44.072741Z"
    },
    "papermill": {
     "duration": 0.288987,
     "end_time": "2021-06-08T20:59:44.072916",
     "exception": false,
     "start_time": "2021-06-08T20:59:43.783929",
     "status": "completed"
    },
    "tags": []
   },
   "outputs": [
    {
     "name": "stderr",
     "output_type": "stream",
     "text": [
      "C:\\Users\\HP\\AppData\\Local\\Temp\\ipykernel_20452\\2038170020.py:2: FutureWarning: In a future version of pandas all arguments of DataFrame.drop except for the argument 'labels' will be keyword-only.\n",
      "  df = df.drop(\"genre\",1)\n"
     ]
    },
    {
     "data": {
      "text/html": [
       "<div>\n",
       "<style scoped>\n",
       "    .dataframe tbody tr th:only-of-type {\n",
       "        vertical-align: middle;\n",
       "    }\n",
       "\n",
       "    .dataframe tbody tr th {\n",
       "        vertical-align: top;\n",
       "    }\n",
       "\n",
       "    .dataframe thead th {\n",
       "        text-align: right;\n",
       "    }\n",
       "</style>\n",
       "<table border=\"1\" class=\"dataframe\">\n",
       "  <thead>\n",
       "    <tr style=\"text-align: right;\">\n",
       "      <th></th>\n",
       "      <th>popularity</th>\n",
       "      <th>acousticness</th>\n",
       "      <th>danceability</th>\n",
       "      <th>duration_ms</th>\n",
       "      <th>energy</th>\n",
       "      <th>instrumentalness</th>\n",
       "      <th>liveness</th>\n",
       "      <th>loudness</th>\n",
       "      <th>speechiness</th>\n",
       "      <th>tempo</th>\n",
       "      <th>...</th>\n",
       "      <th>Pop</th>\n",
       "      <th>Reggae</th>\n",
       "      <th>Reggaeton</th>\n",
       "      <th>Jazz</th>\n",
       "      <th>Rock</th>\n",
       "      <th>Ska</th>\n",
       "      <th>Comedy</th>\n",
       "      <th>Soul</th>\n",
       "      <th>Soundtrack</th>\n",
       "      <th>World</th>\n",
       "    </tr>\n",
       "  </thead>\n",
       "  <tbody>\n",
       "    <tr>\n",
       "      <th>0</th>\n",
       "      <td>-2.261007</td>\n",
       "      <td>0.683376</td>\n",
       "      <td>-0.890935</td>\n",
       "      <td>-1.141368</td>\n",
       "      <td>1.286908</td>\n",
       "      <td>-0.489819</td>\n",
       "      <td>0.660661</td>\n",
       "      <td>1.290703</td>\n",
       "      <td>-0.367970</td>\n",
       "      <td>1.595607</td>\n",
       "      <td>...</td>\n",
       "      <td>0.0</td>\n",
       "      <td>0.0</td>\n",
       "      <td>0.0</td>\n",
       "      <td>0.0</td>\n",
       "      <td>0.0</td>\n",
       "      <td>0.0</td>\n",
       "      <td>0.0</td>\n",
       "      <td>0.0</td>\n",
       "      <td>0.0</td>\n",
       "      <td>0.0</td>\n",
       "    </tr>\n",
       "    <tr>\n",
       "      <th>1</th>\n",
       "      <td>-2.206031</td>\n",
       "      <td>-0.345467</td>\n",
       "      <td>0.191994</td>\n",
       "      <td>-0.821867</td>\n",
       "      <td>0.630249</td>\n",
       "      <td>-0.489819</td>\n",
       "      <td>-0.322835</td>\n",
       "      <td>0.668683</td>\n",
       "      <td>-0.183082</td>\n",
       "      <td>1.823253</td>\n",
       "      <td>...</td>\n",
       "      <td>0.0</td>\n",
       "      <td>0.0</td>\n",
       "      <td>0.0</td>\n",
       "      <td>0.0</td>\n",
       "      <td>0.0</td>\n",
       "      <td>0.0</td>\n",
       "      <td>0.0</td>\n",
       "      <td>0.0</td>\n",
       "      <td>0.0</td>\n",
       "      <td>0.0</td>\n",
       "    </tr>\n",
       "    <tr>\n",
       "      <th>2</th>\n",
       "      <td>-2.096080</td>\n",
       "      <td>1.644570</td>\n",
       "      <td>0.585296</td>\n",
       "      <td>-0.545298</td>\n",
       "      <td>-1.669954</td>\n",
       "      <td>-0.489819</td>\n",
       "      <td>-0.564927</td>\n",
       "      <td>-0.718402</td>\n",
       "      <td>-0.455832</td>\n",
       "      <td>-0.588326</td>\n",
       "      <td>...</td>\n",
       "      <td>0.0</td>\n",
       "      <td>0.0</td>\n",
       "      <td>0.0</td>\n",
       "      <td>0.0</td>\n",
       "      <td>0.0</td>\n",
       "      <td>0.0</td>\n",
       "      <td>0.0</td>\n",
       "      <td>0.0</td>\n",
       "      <td>0.0</td>\n",
       "      <td>0.0</td>\n",
       "    </tr>\n",
       "    <tr>\n",
       "      <th>3</th>\n",
       "      <td>-2.261007</td>\n",
       "      <td>0.942701</td>\n",
       "      <td>-1.693703</td>\n",
       "      <td>-0.695295</td>\n",
       "      <td>-0.929789</td>\n",
       "      <td>-0.489819</td>\n",
       "      <td>-0.587623</td>\n",
       "      <td>-0.434817</td>\n",
       "      <td>-0.438044</td>\n",
       "      <td>1.750597</td>\n",
       "      <td>...</td>\n",
       "      <td>0.0</td>\n",
       "      <td>0.0</td>\n",
       "      <td>0.0</td>\n",
       "      <td>0.0</td>\n",
       "      <td>0.0</td>\n",
       "      <td>0.0</td>\n",
       "      <td>0.0</td>\n",
       "      <td>0.0</td>\n",
       "      <td>0.0</td>\n",
       "      <td>0.0</td>\n",
       "    </tr>\n",
       "    <tr>\n",
       "      <th>4</th>\n",
       "      <td>-2.041104</td>\n",
       "      <td>1.638932</td>\n",
       "      <td>-1.203422</td>\n",
       "      <td>-1.282184</td>\n",
       "      <td>-1.313157</td>\n",
       "      <td>-0.083566</td>\n",
       "      <td>-0.065613</td>\n",
       "      <td>-1.930601</td>\n",
       "      <td>-0.405163</td>\n",
       "      <td>0.741433</td>\n",
       "      <td>...</td>\n",
       "      <td>0.0</td>\n",
       "      <td>0.0</td>\n",
       "      <td>0.0</td>\n",
       "      <td>0.0</td>\n",
       "      <td>0.0</td>\n",
       "      <td>0.0</td>\n",
       "      <td>0.0</td>\n",
       "      <td>0.0</td>\n",
       "      <td>0.0</td>\n",
       "      <td>0.0</td>\n",
       "    </tr>\n",
       "  </tbody>\n",
       "</table>\n",
       "<p>5 rows × 38 columns</p>\n",
       "</div>"
      ],
      "text/plain": [
       "   popularity  acousticness  danceability  duration_ms    energy  \\\n",
       "0   -2.261007      0.683376     -0.890935    -1.141368  1.286908   \n",
       "1   -2.206031     -0.345467      0.191994    -0.821867  0.630249   \n",
       "2   -2.096080      1.644570      0.585296    -0.545298 -1.669954   \n",
       "3   -2.261007      0.942701     -1.693703    -0.695295 -0.929789   \n",
       "4   -2.041104      1.638932     -1.203422    -1.282184 -1.313157   \n",
       "\n",
       "   instrumentalness  liveness  loudness  speechiness     tempo  ...  Pop  \\\n",
       "0         -0.489819  0.660661  1.290703    -0.367970  1.595607  ...  0.0   \n",
       "1         -0.489819 -0.322835  0.668683    -0.183082  1.823253  ...  0.0   \n",
       "2         -0.489819 -0.564927 -0.718402    -0.455832 -0.588326  ...  0.0   \n",
       "3         -0.489819 -0.587623 -0.434817    -0.438044  1.750597  ...  0.0   \n",
       "4         -0.083566 -0.065613 -1.930601    -0.405163  0.741433  ...  0.0   \n",
       "\n",
       "   Reggae  Reggaeton  Jazz  Rock  Ska  Comedy  Soul  Soundtrack  World  \n",
       "0     0.0        0.0   0.0   0.0  0.0     0.0   0.0         0.0    0.0  \n",
       "1     0.0        0.0   0.0   0.0  0.0     0.0   0.0         0.0    0.0  \n",
       "2     0.0        0.0   0.0   0.0  0.0     0.0   0.0         0.0    0.0  \n",
       "3     0.0        0.0   0.0   0.0  0.0     0.0   0.0         0.0    0.0  \n",
       "4     0.0        0.0   0.0   0.0  0.0     0.0   0.0         0.0    0.0  \n",
       "\n",
       "[5 rows x 38 columns]"
      ]
     },
     "execution_count": 24,
     "metadata": {},
     "output_type": "execute_result"
    }
   ],
   "source": [
    "df[enc.columns] = enc\n",
    "df = df.drop(\"genre\",1)\n",
    "df.head()"
   ]
  },
  {
   "cell_type": "code",
   "execution_count": 25,
   "metadata": {
    "execution": {
     "iopub.execute_input": "2021-06-08T20:59:44.117467Z",
     "iopub.status.busy": "2021-06-08T20:59:44.116521Z",
     "iopub.status.idle": "2021-06-08T20:59:44.160961Z",
     "shell.execute_reply": "2021-06-08T20:59:44.161444Z"
    },
    "papermill": {
     "duration": 0.068455,
     "end_time": "2021-06-08T20:59:44.161652",
     "exception": false,
     "start_time": "2021-06-08T20:59:44.093197",
     "status": "completed"
    },
    "tags": []
   },
   "outputs": [
    {
     "name": "stderr",
     "output_type": "stream",
     "text": [
      "C:\\Users\\HP\\AppData\\Local\\Temp\\ipykernel_20452\\3046086526.py:4: FutureWarning: In a future version of pandas all arguments of DataFrame.drop except for the argument 'labels' will be keyword-only.\n",
      "  df_2 = df.drop([\"artist\",\"name\"],1)\n"
     ]
    }
   ],
   "source": [
    "df[\"name\"] = data[\"track_name\"]\n",
    "df[\"artist\"] = data[\"artist_name\"]\n",
    "\n",
    "df_2 = df.drop([\"artist\",\"name\"],1)"
   ]
  },
  {
   "attachments": {},
   "cell_type": "markdown",
   "metadata": {
    "papermill": {
     "duration": 0.020196,
     "end_time": "2021-06-08T20:59:44.202337",
     "exception": false,
     "start_time": "2021-06-08T20:59:44.182141",
     "status": "completed"
    },
    "tags": []
   },
   "source": [
    "## Song finder"
   ]
  },
  {
   "cell_type": "code",
   "execution_count": 26,
   "metadata": {
    "execution": {
     "iopub.execute_input": "2021-06-08T20:59:44.288123Z",
     "iopub.status.busy": "2021-06-08T20:59:44.287462Z",
     "iopub.status.idle": "2021-06-08T20:59:44.293106Z",
     "shell.execute_reply": "2021-06-08T20:59:44.293606Z"
    },
    "papermill": {
     "duration": 0.029805,
     "end_time": "2021-06-08T20:59:44.293776",
     "exception": false,
     "start_time": "2021-06-08T20:59:44.263971",
     "status": "completed"
    },
    "tags": []
   },
   "outputs": [],
   "source": [
    "def find_song(word,artist):\n",
    "    a = 0\n",
    "    b = 0\n",
    "    for i in data[\"track_name\"]:\n",
    "        if word.lower() in i.lower() and artist.lower() in data[\"artist_name\"][a].lower():\n",
    "            print(\"Song Name: \",data[\"track_name\"][a],\", Artists: \",data[\"artist_name\"][a])\n",
    "            b+=1\n",
    "        a+=1\n",
    "    if b == 0:\n",
    "        print(\"Nothing found. Please try something else :)\")"
   ]
  },
  {
   "cell_type": "code",
   "execution_count": 27,
   "metadata": {
    "execution": {
     "iopub.execute_input": "2021-06-08T20:59:44.379385Z",
     "iopub.status.busy": "2021-06-08T20:59:44.378739Z",
     "iopub.status.idle": "2021-06-08T20:59:44.483874Z",
     "shell.execute_reply": "2021-06-08T20:59:44.483285Z"
    },
    "papermill": {
     "duration": 0.128396,
     "end_time": "2021-06-08T20:59:44.484027",
     "exception": false,
     "start_time": "2021-06-08T20:59:44.355631",
     "status": "completed"
    },
    "tags": []
   },
   "outputs": [
    {
     "name": "stdout",
     "output_type": "stream",
     "text": [
      "Song Name:  ocean eyes , Artists:  Billie Eilish\n",
      "Song Name:  Ocean Eyes - Blackbear Remix , Artists:  Billie Eilish\n",
      "Song Name:  Ocean Eyes - Astronomyy Remix , Artists:  Billie Eilish\n",
      "Song Name:  Ocean Eyes - GOLDHOUSE Remix , Artists:  Billie Eilish\n"
     ]
    }
   ],
   "source": [
    "word = \"ocean eyes\"\n",
    "artist = \"billie\"\n",
    "\n",
    "find_song(word,artist)"
   ]
  },
  {
   "cell_type": "code",
   "execution_count": 28,
   "metadata": {
    "execution": {
     "iopub.execute_input": "2021-06-08T20:59:44.575225Z",
     "iopub.status.busy": "2021-06-08T20:59:44.574578Z",
     "iopub.status.idle": "2021-06-08T20:59:44.577988Z",
     "shell.execute_reply": "2021-06-08T20:59:44.577426Z"
    },
    "papermill": {
     "duration": 0.031167,
     "end_time": "2021-06-08T20:59:44.578129",
     "exception": false,
     "start_time": "2021-06-08T20:59:44.546962",
     "status": "completed"
    },
    "tags": []
   },
   "outputs": [],
   "source": [
    "def sim_track_find(word,artist):\n",
    "    a = 0\n",
    "    b = 0\n",
    "    song = []\n",
    "    indexes = []\n",
    "    for i in data[\"track_name\"]:\n",
    "        if word.lower() in i.lower() and artist.lower() in data[\"artist_name\"][a].lower():\n",
    "            song.append(df_2[a:a+1].values)\n",
    "            indexes.append(a)\n",
    "            b+=1\n",
    "        a+=1\n",
    "    if b == 0:\n",
    "        print(\"Nothing found. Please try something else :)\")\n",
    "        return 0\n",
    "        \n",
    "    return song[0][0], indexes[0]"
   ]
  },
  {
   "cell_type": "code",
   "execution_count": 29,
   "metadata": {
    "execution": {
     "iopub.execute_input": "2021-06-08T20:59:44.640210Z",
     "iopub.status.busy": "2021-06-08T20:59:44.635362Z",
     "iopub.status.idle": "2021-06-08T20:59:44.727653Z",
     "shell.execute_reply": "2021-06-08T20:59:44.726995Z"
    },
    "papermill": {
     "duration": 0.127666,
     "end_time": "2021-06-08T20:59:44.727797",
     "exception": false,
     "start_time": "2021-06-08T20:59:44.600131",
     "status": "completed"
    },
    "tags": []
   },
   "outputs": [
    {
     "data": {
      "text/plain": [
       "(array([ 2.46688968,  1.2612199 , -0.23363492, -0.29211879, -0.789348  ,\n",
       "        -0.38511779, -0.66075482,  0.32007742, -0.42995857,  0.88111447,\n",
       "        -1.09940568,  0.        ,  0.        ,  0.        ,  0.        ,\n",
       "         0.        ,  0.        ,  0.        ,  0.        ,  0.        ,\n",
       "         0.        ,  0.        ,  0.        ,  0.        ,  0.        ,\n",
       "         0.        ,  0.        ,  0.        ,  1.        ,  0.        ,\n",
       "         0.        ,  0.        ,  0.        ,  0.        ,  0.        ,\n",
       "         0.        ,  0.        ,  0.        ]),\n",
       " 107896)"
      ]
     },
     "execution_count": 29,
     "metadata": {},
     "output_type": "execute_result"
    }
   ],
   "source": [
    "word = \"ocean eyes\"\n",
    "artist = \"billie\"\n",
    "\n",
    "sim_track_find(word,artist)"
   ]
  },
  {
   "attachments": {},
   "cell_type": "markdown",
   "metadata": {
    "papermill": {
     "duration": 0.021844,
     "end_time": "2021-06-08T20:59:44.815659",
     "exception": false,
     "start_time": "2021-06-08T20:59:44.793815",
     "status": "completed"
    },
    "tags": []
   },
   "source": [
    "## Cosine Distance"
   ]
  },
  {
   "cell_type": "code",
   "execution_count": 30,
   "metadata": {
    "execution": {
     "iopub.execute_input": "2021-06-08T20:59:44.915470Z",
     "iopub.status.busy": "2021-06-08T20:59:44.914412Z",
     "iopub.status.idle": "2021-06-08T20:59:44.917795Z",
     "shell.execute_reply": "2021-06-08T20:59:44.917204Z"
    },
    "papermill": {
     "duration": 0.035059,
     "end_time": "2021-06-08T20:59:44.917945",
     "exception": false,
     "start_time": "2021-06-08T20:59:44.882886",
     "status": "completed"
    },
    "tags": []
   },
   "outputs": [],
   "source": [
    "def similar_tracks(data,number,song = \"\",artist = \"\"):\n",
    "\n",
    "    if (sim_track_find(song,artist) == 0):\n",
    "        return 0\n",
    "    else:\n",
    "        x=sim_track_find(song,artist)[0]\n",
    "        index = sim_track_find(song,artist)[1]\n",
    "    p = []\n",
    "    count=0\n",
    "    for i in df_2.values:\n",
    "        p.append([distance.cosine(x,i),count])\n",
    "        count+=1\n",
    "    p.sort()\n",
    "    song_names = df[\"name\"]\n",
    "    artist_names = df[\"artist\"]\n",
    "\n",
    "    print(\"\\nSimilar songs to \",song_names[index],\" by \", artist_names[index],\"\\n\")\n",
    "    for i in range(1,number+1):\n",
    "        print(i,\"- \",song_names[p[i][1]],\", \",artist_names[p[i][1]])"
   ]
  },
  {
   "cell_type": "code",
   "execution_count": 31,
   "metadata": {
    "execution": {
     "iopub.execute_input": "2021-06-08T20:59:45.029996Z",
     "iopub.status.busy": "2021-06-08T20:59:45.024821Z",
     "iopub.status.idle": "2021-06-08T20:59:58.912181Z",
     "shell.execute_reply": "2021-06-08T20:59:58.912941Z"
    },
    "papermill": {
     "duration": 13.929587,
     "end_time": "2021-06-08T20:59:58.913200",
     "exception": false,
     "start_time": "2021-06-08T20:59:44.983613",
     "status": "completed"
    },
    "tags": []
   },
   "outputs": [
    {
     "name": "stdout",
     "output_type": "stream",
     "text": [
      "\n",
      "Similar songs to  Style  by  Taylor Swift \n",
      "\n",
      "1 -  Volví a Nacer ,  Carlos Vives\n",
      "2 -  Drowning ,  KREAM\n",
      "3 -  Diamonds ,  Rihanna\n",
      "4 -  All You Had To Do Was Stay ,  Taylor Swift\n",
      "5 -  Wherever You Are ,  5 Seconds of Summer\n"
     ]
    }
   ],
   "source": [
    "# song = input(\"Enter the song name\")\n",
    "# artist = input(\"Enter the name of the artist\")\n",
    "\n",
    "song = \"ocean eyes\"\n",
    "artist = \"billie\"\n",
    "num = 5\n",
    "\n",
    "similar_tracks(df,int(num),song,artist)"
   ]
  }
 ],
 "metadata": {
  "kernelspec": {
   "display_name": "Python 3",
   "language": "python",
   "name": "python3"
  },
  "language_info": {
   "codemirror_mode": {
    "name": "ipython",
    "version": 3
   },
   "file_extension": ".py",
   "mimetype": "text/x-python",
   "name": "python",
   "nbconvert_exporter": "python",
   "pygments_lexer": "ipython3",
   "version": "3.10.6"
  },
  "papermill": {
   "default_parameters": {},
   "duration": 26.01892,
   "end_time": "2021-06-08T20:59:59.782428",
   "environment_variables": {},
   "exception": null,
   "input_path": "__notebook__.ipynb",
   "output_path": "__notebook__.ipynb",
   "parameters": {},
   "start_time": "2021-06-08T20:59:33.763508",
   "version": "2.2.2"
  }
 },
 "nbformat": 4,
 "nbformat_minor": 4
}
